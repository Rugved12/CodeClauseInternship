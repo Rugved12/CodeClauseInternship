{
 "cells": [
  {
   "cell_type": "code",
   "execution_count": 1,
   "id": "eea30ac6",
   "metadata": {},
   "outputs": [
    {
     "name": "stdout",
     "output_type": "stream",
     "text": [
      "Welcome to the Speed Typing Test!\n",
      "Type the following sentence:\n",
      "Artificial Intelligence is transforming the world.\n",
      "Press Enter when you are ready to start...\n",
      "Type the sentence: hi my name is rugved adkar \n",
      "\n",
      "Typing speed: 23.66 words per minute\n",
      "Accuracy: 0.00%\n"
     ]
    }
   ],
   "source": [
    "import random\n",
    "import time\n",
    "\n",
    "def generate_random_sentence():\n",
    "    sentences = [\n",
    "        \"The quick brown fox jumps over the lazy dog.\",\n",
    "        \"Python is a powerful and versatile programming language.\",\n",
    "        \"Artificial Intelligence is transforming the world.\",\n",
    "        \"Keep calm and code in Python!\",\n",
    "        \"Learning is a lifelong journey.\",\n",
    "        \"Coding is fun and challenging at the same time.\",\n",
    "        \"Practice makes perfect.\",\n",
    "        \"Hello, World! Welcome to the Speed Typing Test!\"\n",
    "    ]\n",
    "    return random.choice(sentences)\n",
    "\n",
    "def get_user_input():\n",
    "    user_input = input(\"Type the sentence: \")\n",
    "    return user_input\n",
    "\n",
    "def calculate_typing_speed(start_time, end_time, sentence):\n",
    "    total_time = end_time - start_time\n",
    "    words = sentence.split()\n",
    "    words_per_minute = (len(words) / total_time) * 60\n",
    "    return words_per_minute\n",
    "\n",
    "def calculate_accuracy(sentence, user_input):\n",
    "    correct_words = 0\n",
    "    sentence_words = sentence.split()\n",
    "    user_input_words = user_input.split()\n",
    "    for i in range(min(len(sentence_words), len(user_input_words))):\n",
    "        if sentence_words[i] == user_input_words[i]:\n",
    "            correct_words += 1\n",
    "    accuracy = (correct_words / len(sentence_words)) * 100\n",
    "    return accuracy\n",
    "\n",
    "def main():\n",
    "    print(\"Welcome to the Speed Typing Test!\")\n",
    "    sentence = generate_random_sentence()\n",
    "    print(\"Type the following sentence:\")\n",
    "    print(sentence)\n",
    "\n",
    "    input(\"Press Enter when you are ready to start...\")\n",
    "    start_time = time.time()\n",
    "\n",
    "    user_input = get_user_input()\n",
    "    end_time = time.time()\n",
    "\n",
    "    typing_speed = calculate_typing_speed(start_time, end_time, sentence)\n",
    "    accuracy = calculate_accuracy(sentence, user_input)\n",
    "\n",
    "    print(f\"\\nTyping speed: {typing_speed:.2f} words per minute\")\n",
    "    print(f\"Accuracy: {accuracy:.2f}%\")\n",
    "\n",
    "if __name__ == \"__main__\":\n",
    "    main()\n"
   ]
  },
  {
   "cell_type": "code",
   "execution_count": 3,
   "id": "aece278d",
   "metadata": {},
   "outputs": [
    {
     "ename": "SyntaxError",
     "evalue": "invalid syntax (470353980.py, line 1)",
     "output_type": "error",
     "traceback": [
      "\u001b[1;36m  Cell \u001b[1;32mIn[3], line 1\u001b[1;36m\u001b[0m\n\u001b[1;33m    pip install markovify\u001b[0m\n\u001b[1;37m        ^\u001b[0m\n\u001b[1;31mSyntaxError\u001b[0m\u001b[1;31m:\u001b[0m invalid syntax\n"
     ]
    }
   ],
   "source": [
    "pip install markovify\n",
    "\n",
    " "
   ]
  }
 ],
 "metadata": {
  "kernelspec": {
   "display_name": "Python 3 (ipykernel)",
   "language": "python",
   "name": "python3"
  },
  "language_info": {
   "codemirror_mode": {
    "name": "ipython",
    "version": 3
   },
   "file_extension": ".py",
   "mimetype": "text/x-python",
   "name": "python",
   "nbconvert_exporter": "python",
   "pygments_lexer": "ipython3",
   "version": "3.10.9"
  }
 },
 "nbformat": 4,
 "nbformat_minor": 5
}
