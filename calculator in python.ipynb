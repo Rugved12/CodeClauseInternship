{
 "cells": [
  {
   "cell_type": "code",
   "execution_count": 3,
   "id": "45cb6221",
   "metadata": {},
   "outputs": [
    {
     "name": "stdout",
     "output_type": "stream",
     "text": [
      "Please select the operation to perfrom on the number\n",
      "1.add\n",
      "2.subtract\n",
      "3.multiply\n",
      "4.div\n",
      "5.module\n",
      "please enter the choice (1/2/3/4/5) 2\n",
      "enter first number to perfrom the operation10\n",
      "enter second number to perfrom the operation12\n",
      "The subtration of two number is: -2\n"
     ]
    }
   ],
   "source": [
    "print(\"Please select the operation to perfrom on the number\")\n",
    "print(\"1.add\")\n",
    "print(\"2.subtract\")\n",
    "print(\"3.multiply\")\n",
    "print(\"4.div\")\n",
    "print(\"5.module\")\n",
    "\n",
    "choice=input(\"please enter the choice (1/2/3/4/5) \")\n",
    "\n",
    "num_1=int(input(\"enter first number to perfrom the operation\"))\n",
    "num_2=int(input(\"enter second number to perfrom the operation\"))\n",
    "\n",
    "if choice=='1':\n",
    "    print(\"The addition of two number is:\",num_1+num_2)\n",
    "elif choice=='2':\n",
    "    print(\"The subtration of two number is:\",num_1-num_2)\n",
    "elif choice=='3':\n",
    "    print(\"The multiplication of two number is:\",num_1*num_2)\n",
    "elif choice=='4':\n",
    "    print(\"The division of two number is:\",num_1/num_2)\n",
    "elif choice=='5':\n",
    "    print(\"The module of two number is:\",num_1%num_2)\n",
    "else:\n",
    "    print(\"The choose the valid option\")"
   ]
  },
  {
   "cell_type": "code",
   "execution_count": null,
   "id": "5f5e3c30",
   "metadata": {},
   "outputs": [],
   "source": []
  },
  {
   "cell_type": "code",
   "execution_count": null,
   "id": "0a565404",
   "metadata": {},
   "outputs": [],
   "source": []
  },
  {
   "cell_type": "code",
   "execution_count": null,
   "id": "e498b34b",
   "metadata": {},
   "outputs": [],
   "source": []
  }
 ],
 "metadata": {
  "kernelspec": {
   "display_name": "Python 3 (ipykernel)",
   "language": "python",
   "name": "python3"
  },
  "language_info": {
   "codemirror_mode": {
    "name": "ipython",
    "version": 3
   },
   "file_extension": ".py",
   "mimetype": "text/x-python",
   "name": "python",
   "nbconvert_exporter": "python",
   "pygments_lexer": "ipython3",
   "version": "3.10.9"
  }
 },
 "nbformat": 4,
 "nbformat_minor": 5
}
